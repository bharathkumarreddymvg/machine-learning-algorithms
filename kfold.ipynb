{
 "cells": [
  {
   "cell_type": "code",
   "execution_count": 3,
   "id": "9b02c5a3-9707-4b9f-9650-9acaee9b303a",
   "metadata": {},
   "outputs": [],
   "source": [
    "from sklearn.linear_model import LogisticRegression\n",
    "from sklearn.svm import SVC\n",
    "from sklearn.ensemble import RandomForestClassifier\n",
    "from sklearn.datasets import load_digits\n",
    "import matplotlib.pyplot as plt\n",
    "digits=load_digits()"
   ]
  },
  {
   "cell_type": "code",
   "execution_count": 4,
   "id": "24c3bfe0-fff9-4f5c-979c-3f8c1f0b0fa4",
   "metadata": {},
   "outputs": [],
   "source": [
    "from sklearn.model_selection import train_test_split\n",
    "x_train,x_test,y_train,y_test=train_test_split(digits.data,digits.target,test_size=0.2)"
   ]
  },
  {
   "cell_type": "code",
   "execution_count": 6,
   "id": "d3b04ee2-2436-4963-b40e-27d73f064509",
   "metadata": {},
   "outputs": [
    {
     "data": {
      "text/plain": [
       "0.9555555555555556"
      ]
     },
     "execution_count": 6,
     "metadata": {},
     "output_type": "execute_result"
    }
   ],
   "source": [
    "lr=LogisticRegression(solver='liblinear',multi_class='ovr')\n",
    "lr.fit(x_train,y_train)\n",
    "lr.score(x_test,y_test)"
   ]
  },
  {
   "cell_type": "code",
   "execution_count": 7,
   "id": "99f8e474-1d2c-450d-ae58-c188d2028a50",
   "metadata": {},
   "outputs": [
    {
     "data": {
      "text/plain": [
       "0.4444444444444444"
      ]
     },
     "execution_count": 7,
     "metadata": {},
     "output_type": "execute_result"
    }
   ],
   "source": [
    "svm=SVC(gamma='auto')\n",
    "svm.fit(x_train,y_train)\n",
    "svm.score(x_test,y_test)"
   ]
  },
  {
   "cell_type": "code",
   "execution_count": 10,
   "id": "17b51037-477b-4353-a0c3-b1a4d8e1c8a5",
   "metadata": {},
   "outputs": [
    {
     "data": {
      "text/plain": [
       "0.9694444444444444"
      ]
     },
     "execution_count": 10,
     "metadata": {},
     "output_type": "execute_result"
    }
   ],
   "source": [
    "rf=RandomForestClassifier(n_estimators=30)\n",
    "rf.fit(x_train,y_train)\n",
    "rf.score(x_test,y_test)"
   ]
  },
  {
   "cell_type": "code",
   "execution_count": 13,
   "id": "1067b25f-f54a-4c84-85d9-857e6d8214e3",
   "metadata": {},
   "outputs": [
    {
     "data": {
      "text/plain": [
       "KFold(n_splits=5, random_state=None, shuffle=False)"
      ]
     },
     "execution_count": 13,
     "metadata": {},
     "output_type": "execute_result"
    }
   ],
   "source": [
    "from sklearn.model_selection import KFold\n",
    "kf=KFold(n_splits=5)\n",
    "kf"
   ]
  },
  {
   "cell_type": "code",
   "execution_count": 15,
   "id": "94ddc2b7-42e0-4fce-a4e1-c3a7f8d24d0c",
   "metadata": {},
   "outputs": [
    {
     "name": "stdout",
     "output_type": "stream",
     "text": [
      "[2 3 4 5] [0 1]\n",
      "[0 1 3 4 5] [2]\n",
      "[0 1 2 4 5] [3]\n",
      "[0 1 2 3 5] [4]\n",
      "[0 1 2 3 4] [5]\n"
     ]
    }
   ],
   "source": [
    "for train_index, test_index in kf.split([1,2,3,4,5,6]):\n",
    "    print(train_index, test_index)"
   ]
  },
  {
   "cell_type": "code",
   "execution_count": 16,
   "id": "d4979052-661f-4e6e-b198-39ab84c565ed",
   "metadata": {},
   "outputs": [],
   "source": [
    "def get_score(model, X_train, X_test, y_train, y_test):\n",
    "    model.fit(X_train, y_train)\n",
    "    return model.score(X_test, y_test)"
   ]
  },
  {
   "cell_type": "code",
   "execution_count": 17,
   "id": "e50992c5-526b-40a0-9dcc-80c36ddc277a",
   "metadata": {},
   "outputs": [],
   "source": [
    "from sklearn.model_selection import StratifiedKFold\n",
    "folds = StratifiedKFold(n_splits=3)\n",
    "\n",
    "scores_logistic = []\n",
    "scores_svm = []\n",
    "scores_rf = []\n",
    "\n",
    "for train_index, test_index in folds.split(digits.data,digits.target):\n",
    "    X_train, X_test, y_train, y_test = digits.data[train_index], digits.data[test_index], \\\n",
    "                                       digits.target[train_index], digits.target[test_index]\n",
    "    scores_logistic.append(get_score(LogisticRegression(solver='liblinear',multi_class='ovr'), X_train, X_test, y_train, y_test))  \n",
    "    scores_svm.append(get_score(SVC(gamma='auto'), X_train, X_test, y_train, y_test))\n",
    "    scores_rf.append(get_score(RandomForestClassifier(n_estimators=40), X_train, X_test, y_train, y_test))"
   ]
  },
  {
   "cell_type": "code",
   "execution_count": 18,
   "id": "43c08e22-8420-41e5-8285-0c5f57b82fa8",
   "metadata": {},
   "outputs": [
    {
     "data": {
      "text/plain": [
       "[0.8948247078464107, 0.9532554257095158, 0.9098497495826378]"
      ]
     },
     "execution_count": 18,
     "metadata": {},
     "output_type": "execute_result"
    }
   ],
   "source": [
    "scores_logistic"
   ]
  },
  {
   "cell_type": "code",
   "execution_count": 19,
   "id": "fbc52bd9-e496-435c-82cf-9bbfed495a22",
   "metadata": {},
   "outputs": [
    {
     "data": {
      "text/plain": [
       "[0.3806343906510851, 0.41068447412353926, 0.5125208681135225]"
      ]
     },
     "execution_count": 19,
     "metadata": {},
     "output_type": "execute_result"
    }
   ],
   "source": [
    "scores_svm"
   ]
  },
  {
   "cell_type": "code",
   "execution_count": 20,
   "id": "3addece7-23c6-4269-9a45-43e8a88f19da",
   "metadata": {},
   "outputs": [
    {
     "data": {
      "text/plain": [
       "[0.9348914858096828, 0.9432387312186978, 0.9165275459098498]"
      ]
     },
     "execution_count": 20,
     "metadata": {},
     "output_type": "execute_result"
    }
   ],
   "source": [
    "scores_rf"
   ]
  },
  {
   "cell_type": "code",
   "execution_count": 22,
   "id": "320fe9f5-3f58-4a03-9dfb-e9344406898a",
   "metadata": {},
   "outputs": [],
   "source": [
    "from sklearn.model_selection import cross_val_score"
   ]
  },
  {
   "cell_type": "code",
   "execution_count": 24,
   "id": "03142ce6-e3ce-42ea-a177-4c39877fb931",
   "metadata": {},
   "outputs": [
    {
     "data": {
      "text/plain": [
       "array([0.92222222, 0.88333333, 0.95264624, 0.95821727, 0.89415042])"
      ]
     },
     "execution_count": 24,
     "metadata": {},
     "output_type": "execute_result"
    }
   ],
   "source": [
    "cross_val_score(LogisticRegression(solver='liblinear',multi_class='ovr'),digits.data,digits.target,cv=5)"
   ]
  },
  {
   "cell_type": "code",
   "execution_count": 25,
   "id": "2792be6f-0f15-477a-8fc9-9f52fbca0fe9",
   "metadata": {},
   "outputs": [
    {
     "data": {
      "text/plain": [
       "array([0.41111111, 0.45      , 0.454039  , 0.44846797, 0.47910864])"
      ]
     },
     "execution_count": 25,
     "metadata": {},
     "output_type": "execute_result"
    }
   ],
   "source": [
    "cross_val_score(SVC(gamma='auto'),digits.data,digits.target,cv=5)"
   ]
  },
  {
   "cell_type": "code",
   "execution_count": 26,
   "id": "427e309e-9fd9-48ee-8783-36405c8c657e",
   "metadata": {},
   "outputs": [
    {
     "data": {
      "text/plain": [
       "array([0.925     , 0.9       , 0.95543175, 0.9637883 , 0.91086351])"
      ]
     },
     "execution_count": 26,
     "metadata": {},
     "output_type": "execute_result"
    }
   ],
   "source": [
    "cross_val_score(RandomForestClassifier(n_estimators=30),digits.data,digits.target,cv=5)"
   ]
  },
  {
   "cell_type": "code",
   "execution_count": 28,
   "id": "57f3fb08-f8f5-4f00-afae-b61f2ac457e0",
   "metadata": {},
   "outputs": [],
   "source": [
    "import numpy as np"
   ]
  },
  {
   "cell_type": "code",
   "execution_count": 29,
   "id": "feae8de3-8f39-4ffd-9416-c6f4d53a744a",
   "metadata": {},
   "outputs": [
    {
     "data": {
      "text/plain": [
       "0.8737109254100897"
      ]
     },
     "execution_count": 29,
     "metadata": {},
     "output_type": "execute_result"
    }
   ],
   "source": [
    "score_1=cross_val_score(RandomForestClassifier(n_estimators=5),digits.data,digits.target,cv=5)\n",
    "np.average(score_1)"
   ]
  },
  {
   "cell_type": "code",
   "execution_count": 30,
   "id": "9f706526-289c-4850-8eea-f874fcaf43b5",
   "metadata": {},
   "outputs": [
    {
     "data": {
      "text/plain": [
       "0.9104255648406067"
      ]
     },
     "execution_count": 30,
     "metadata": {},
     "output_type": "execute_result"
    }
   ],
   "source": [
    "score_2=cross_val_score(RandomForestClassifier(n_estimators=10),digits.data,digits.target,cv=5)\n",
    "np.average(score_2)"
   ]
  },
  {
   "cell_type": "code",
   "execution_count": 31,
   "id": "6284eca1-5096-4f54-b634-38322c6c33dd",
   "metadata": {},
   "outputs": [
    {
     "data": {
      "text/plain": [
       "0.9182203652120087"
      ]
     },
     "execution_count": 31,
     "metadata": {},
     "output_type": "execute_result"
    }
   ],
   "source": [
    "score_3=cross_val_score(RandomForestClassifier(n_estimators=20),digits.data,digits.target,cv=5)\n",
    "np.average(score_3)"
   ]
  },
  {
   "cell_type": "code",
   "execution_count": 32,
   "id": "f04c0f7c-4c94-418c-b4a8-2b840882a0e7",
   "metadata": {},
   "outputs": [
    {
     "data": {
      "text/plain": [
       "0.9232265552460539"
      ]
     },
     "execution_count": 32,
     "metadata": {},
     "output_type": "execute_result"
    }
   ],
   "source": [
    "score_4=cross_val_score(RandomForestClassifier(n_estimators=20),digits.data,digits.target,cv=5)\n",
    "np.average(score_4)"
   ]
  },
  {
   "cell_type": "code",
   "execution_count": 33,
   "id": "fb2dc61a-b2ae-4e87-8e0a-c3523bbce94a",
   "metadata": {},
   "outputs": [
    {
     "data": {
      "text/plain": [
       "0.9282234602290312"
      ]
     },
     "execution_count": 33,
     "metadata": {},
     "output_type": "execute_result"
    }
   ],
   "source": [
    "score_5=cross_val_score(RandomForestClassifier(n_estimators=30),digits.data,digits.target,cv=5)\n",
    "np.average(score_5)"
   ]
  },
  {
   "cell_type": "code",
   "execution_count": 34,
   "id": "0b113225-74d9-4f03-bc65-1f36b2bd4b62",
   "metadata": {},
   "outputs": [
    {
     "data": {
      "text/plain": [
       "0.9299133395233674"
      ]
     },
     "execution_count": 34,
     "metadata": {},
     "output_type": "execute_result"
    }
   ],
   "source": [
    "score_6=cross_val_score(RandomForestClassifier(n_estimators=40),digits.data,digits.target,cv=5)\n",
    "np.average(score_6)"
   ]
  },
  {
   "cell_type": "code",
   "execution_count": null,
   "id": "ed91aa40-34b5-4008-b129-07cff4214899",
   "metadata": {},
   "outputs": [],
   "source": []
  }
 ],
 "metadata": {
  "kernelspec": {
   "display_name": "Python 3 (ipykernel)",
   "language": "python",
   "name": "python3"
  },
  "language_info": {
   "codemirror_mode": {
    "name": "ipython",
    "version": 3
   },
   "file_extension": ".py",
   "mimetype": "text/x-python",
   "name": "python",
   "nbconvert_exporter": "python",
   "pygments_lexer": "ipython3",
   "version": "3.11.7"
  }
 },
 "nbformat": 4,
 "nbformat_minor": 5
}
